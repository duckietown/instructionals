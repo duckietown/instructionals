{
  "nbformat": 4,
  "nbformat_minor": 0,
  "metadata": {
    "colab": {
      "name": "Modeling - Instructional Exercise",
      "version": "0.3.2",
      "provenance": [],
      "collapsed_sections": [
        "ruNKnAcq6alW",
        "Qg-9v_zA974X",
        "jgMBg7ta9h-K",
        "F0_mq4M_U1oy"
      ]
    },
    "kernelspec": {
      "name": "python3",
      "display_name": "Python 3"
    }
  },
  "cells": [
    {
      "metadata": {
        "id": "fH-shTKq4UAE",
        "colab_type": "text"
      },
      "cell_type": "markdown",
      "source": [
        "# Kinematics\n",
        "---\n",
        "\n",
        "![](https://bhairavmehta95.github.io/static/teaching/FavSlide.png)\n",
        "\n",
        "\n",
        "---\n",
        "\n",
        "\n",
        "\n",
        "**Differential Drive** is how we model our Duckiebots - it's a two-wheeled drive system where each wheel has its own, independent actuator (or in our case, a motor).\n",
        "\n"
      ]
    },
    {
      "metadata": {
        "id": "ruNKnAcq6alW",
        "colab_type": "text"
      },
      "cell_type": "markdown",
      "source": [
        "#### Q: How Do We Determine Motion in Differential Drive Systems?"
      ]
    },
    {
      "metadata": {
        "id": "awlochSv6KLd",
        "colab_type": "text"
      },
      "cell_type": "markdown",
      "source": [
        "Through differences in wheel angular velocities, $\\dot\\phi_{l/r}$"
      ]
    },
    {
      "metadata": {
        "id": "rZCy_Ev_7A3N",
        "colab_type": "text"
      },
      "cell_type": "markdown",
      "source": [
        "#### Our goal: Build a model such that, given voltage as input, delivers a pose as output.\n",
        "\n",
        "![](https://bhairavmehta95.github.io/static/teaching/Kin.png)\n",
        "\n",
        "---\n",
        "\n",
        "As we saw in class, this has to go through quite a few steps. From voltages, we go to torques, and after passing them through our dynamics model, we get accelerations and velocities. From there, we can simply use our kinematic model to output our position and orientation."
      ]
    },
    {
      "metadata": {
        "id": "Qg-9v_zA974X",
        "colab_type": "text"
      },
      "cell_type": "markdown",
      "source": [
        "#### Differential Drive Code\n",
        "For now, we will give you the differential drive code. We will derive it in a later part of the instructional, so don't peek!"
      ]
    },
    {
      "metadata": {
        "id": "XVWrJxLN-EQq",
        "colab_type": "code",
        "colab": {
          "base_uri": "https://localhost:8080/",
          "height": 51
        },
        "outputId": "30e5e954-7576-45ac-b564-ebc6cd3e5177"
      },
      "cell_type": "code",
      "source": [
        "# Graciously taken from the hard work of @maximecb. \n",
        "# Also, if you're reading this, You've Cheated :( \n",
        "\n",
        "# Used later\n",
        "!wget \"https://bhairavmehta95.github.io/static/teaching/dt.png\"\n",
        "\n",
        "import math\n",
        "import numpy as np\n",
        "import matplotlib.pyplot as plt\n",
        "\n",
        "def plot_poses(poses, draw_line=False):\n",
        "    coords = np.array([p[0] for p in poses])\n",
        "    xmin = np.min(coords[:, 0])\n",
        "    xmax = np.max(coords[:, 0])\n",
        "    ymin = np.min(coords[:, 1])\n",
        "    ymax = np.max(coords[:, 1])\n",
        "    \n",
        "    plt.axis([xmin - 0.1, xmax + 0.1, ymin - 0.1, ymax + 0.1])\n",
        "    for i, p in enumerate(poses):\n",
        "        x = p[0][0]\n",
        "        y = p[0][1]\n",
        "        angle = p[1]\n",
        "        \n",
        "        if i == 0:\n",
        "            plt.arrow(x, y, 0.001 * math.cos(angle), 0.001 * math.sin(angle),\n",
        "                 head_width=0.05, head_length=0.08,\n",
        "                  fc='r', ec='r')\n",
        "        else:\n",
        "            plt.arrow(x, y, 0.001 * math.cos(angle), -0.001 * math.sin(angle),\n",
        "                 head_width=0.05, head_length=0.08,\n",
        "                  fc='k', ec='k')\n",
        "            \n",
        "    if draw_line:\n",
        "        plt.hlines(0, 0, xmax, linestyles='dashed', colors='r')\n",
        "\n",
        "\n",
        "def rotate_point(px, py, cx, cy, theta):\n",
        "    \"\"\"\n",
        "    Rotate a 2D point around a center\n",
        "    \"\"\"\n",
        "\n",
        "    dx = px - cx\n",
        "    dy = py - cy\n",
        "\n",
        "    new_dx = dx * math.cos(theta) + dy * math.sin(theta)\n",
        "    new_dy = dy * math.cos(theta) - dx * math.sin(theta)\n",
        "\n",
        "    return cx + new_dx, cy + new_dy\n",
        "  \n",
        "def get_dir_vec(angle):\n",
        "    \"\"\"\n",
        "    Vector pointing in the direction the agent is looking\n",
        "    \"\"\"\n",
        "\n",
        "    x = math.cos(angle)\n",
        "    y = -math.sin(angle)\n",
        "    return np.array([x, y])\n",
        "\n",
        "def get_right_vec(angle):\n",
        "    \"\"\"\n",
        "    Vector pointing to the right of the agent\n",
        "    \"\"\"\n",
        "\n",
        "    x = math.sin(angle)\n",
        "    y = math.cos(angle)\n",
        "    return np.array([x, y])\n",
        "\n",
        "def drive(cur_pos, cur_angle):\n",
        "    \"\"\"\n",
        "    Drive this bad boy\n",
        "    \"\"\"\n",
        "    cur_pos = np.array(cur_pos)\n",
        "    \n",
        "    Vl = left_vel\n",
        "    Vr = right_vel\n",
        "    l = wheel_dist\n",
        "\n",
        "    # If the wheel velocities are the same, then there is no rotation\n",
        "    if Vl == Vr:\n",
        "      cur_pos = cur_pos + dt * Vl * get_dir_vec(cur_angle)\n",
        "      return cur_pos, cur_angle\n",
        "\n",
        "    # Compute the angular rotation velocity about the ICC (center of curvature)\n",
        "    w = (Vr - Vl) / l\n",
        "    \n",
        "\n",
        "    # Compute the distance to the center of curvature\n",
        "    r = (l * (Vl + Vr)) / (2 * (Vl - Vr))\n",
        "\n",
        "    # Compute the rotation angle for this time step\n",
        "    rotAngle = w * dt\n",
        "\n",
        "    # Rotate the robot's position around the center of rotation\n",
        "    r_vec = get_right_vec(cur_angle)\n",
        "    px, py = cur_pos\n",
        "    cx = px + r * r_vec[0]\n",
        "    cy = py + r * r_vec[1]\n",
        "    npx, npy = rotate_point(px, py, cx, cy, rotAngle)\n",
        "    cur_pos = np.array([npx, npy])\n",
        "   \n",
        "    # Update the robot's direction angle\n",
        "    cur_angle += rotAngle\n",
        "    return cur_pos, cur_angle"
      ],
      "execution_count": 27,
      "outputs": [
        {
          "output_type": "stream",
          "text": [
            "\n",
            "Redirecting output to ‘wget-log.4’.\n"
          ],
          "name": "stdout"
        }
      ]
    },
    {
      "metadata": {
        "id": "F3mMSltgAz9x",
        "colab_type": "text"
      },
      "cell_type": "markdown",
      "source": [
        "#### Your Turn!\n",
        "\n",
        "Now, we are going to drive our simulated Duckiebot.\n",
        "\n",
        "Play with the parameters above (sliders), and below in the Python code, and watch the plot. How does your Duckiebot drive change with larger differences in velocity? **(Easy)** How does your Duckiebot drive change as a function of `dt` and  `wheel_dist`? **(Harder)**\n",
        "\n",
        "The red arrow is where you start, and you can watch your agent progress, plotted at each time step."
      ]
    },
    {
      "metadata": {
        "id": "UkSCAZX07iR2",
        "colab_type": "code",
        "colab": {
          "base_uri": "https://localhost:8080/",
          "height": 351
        },
        "outputId": "e9f1648a-7cb6-4c23-c84a-15682875b5d2"
      },
      "cell_type": "code",
      "source": [
        "#@title Parameters { run: \"auto\" }\n",
        "\n",
        "left_vel = 0 #@param {type:\"slider\", min:-1, max:1, step:0.05}\n",
        "right_vel = 0.05 #@param {type:\"slider\", min:-1, max:1, step:0.05}\n",
        "wheel_dist = 0.45 #@param {type:\"slider\", min:0.1, max:1, step:0.05}\n",
        "dt = 0.45 #@param {type:\"slider\", min:0.25, max:1, step:0.05}\n",
        "total_timesteps = 30 #@param {type:\"slider\", min:10, max:100, step:10}\n",
        "\n",
        "start_pos = [0, 0]\n",
        "\n",
        "cur_pos = start_pos\n",
        "cur_angle = 0\n",
        "\n",
        "poses = [(cur_pos, cur_angle)]\n",
        "\n",
        "for t in range(total_timesteps):\n",
        "    cur_pos, cur_angle = drive(cur_pos, cur_angle)\n",
        "    poses.append((cur_pos, cur_angle))\n",
        "    \n",
        "plot_poses(poses)\n",
        "    "
      ],
      "execution_count": 72,
      "outputs": [
        {
          "output_type": "display_data",
          "data": {
            "image/png": "[encoded data removed]",
            "text/plain": [
              "<matplotlib.figure.Figure at 0x7f757bd40400>"
            ]
          },
          "metadata": {
            "tags": []
          }
        }
      ]
    },
    {
      "metadata": {
        "id": "M4uF8UiHJe6G",
        "colab_type": "text"
      },
      "cell_type": "markdown",
      "source": [
        "## Assumptions\n",
        "\n",
        "As we start to write our own differential drive code, it's worth the time to go over what assumptions we are making as we write it.\n",
        "\n",
        "![](https://bhairavmehta95.github.io/static/teaching/Geom.png)\n",
        "\n",
        "#### On the Geometric Side, We Assume:\n",
        "1. Identical wheels (both have a radius $R$)\n",
        "2. Our wheels are equally spaced from the center, with an axle length of $2L$\n",
        "3. Our Duckiebot is Symmetric along the Longitudinal Axis\n",
        "4. Our Center of Mass is on the Symmetry Axis\n",
        "\n",
        "#### On the Kinematic Side, We Assume:\n",
        "1. We have a rigid body\n",
        "2. There is no lateral slipping\n",
        "3. We have pure rolling\n",
        "\n",
        "#### In Addition, for Sake of Simplicity, We Choose Not to Model:\n",
        "1. The Castor Wheel\n",
        "2. Out of plane dynamics\n",
        "3. Friction\n",
        "\n",
        "(and thereby, their effect on our motion model)\n",
        "\n"
      ]
    },
    {
      "metadata": {
        "id": "L-YAtz5iLEYV",
        "colab_type": "text"
      },
      "cell_type": "markdown",
      "source": [
        "## Writing A Differential Drive Robot\n",
        "\n",
        "Now that everything's on the table, we can get started.\n",
        " \n",
        "We will call our function `drive()`, and will provide to it:\n",
        "\n",
        "1. The left and right wheel velocities\n",
        "2. The current position, and the current angle (Our drive function will compute deltas to both of these, and update them accordingly)\n",
        "3. Parameters: wheel distance, `dt` (How long we are integrating the velocity for)\n",
        "\n",
        "Now, our function header for drive looks like this:\n",
        "\n",
        "```\n",
        "drive(left_vel, right_vel, cur_pos, cur_angle, wheel_dist, dt):\n",
        "    # Magic\n",
        "```\n",
        "\n",
        "We can take care of the simplest case first. If `left_vel` is equal to `right_vel`, we will not have any \n",
        "rotation during our integration, and our updated position simply becomes:\n",
        "\n",
        "```\n",
        "if left_vel == right_vel:\n",
        "    cur_pos = cur_pos + dt * Vl * get_dir_vec(cur_angle)\n",
        "```\n",
        "\n",
        "where `get_dir_vec()` just returns a heading in the robot's forward facing direction. Remember, we're working in two dimensions!\n",
        "\n",
        "But, what happens if:\n",
        "\n",
        "```\n",
        "if left_vel != right_vel:\n",
        "    ¯\\_(ツ)_/¯\n",
        "```\n",
        "\n",
        "Now, we need to use all of the things we learned in class!\n",
        "\n"
      ]
    },
    {
      "metadata": {
        "id": "hq2asfh-NTW3",
        "colab_type": "text"
      },
      "cell_type": "markdown",
      "source": [
        "#### Computing the Rotation\n",
        "\n",
        "We will tackle the rotation. \n",
        "\n",
        "We now need to compute an angular velocity, which is nonzero since our wheel velocities are not equal. We compute this around the Instantaneous Centre of Curvature (ICC) as follows:\n",
        "\n",
        "``` \n",
        "omega = (left_vel - right_vel) / wheel_dist\n",
        "```\n",
        "\n",
        "Which we can use to compute the rotation angle for this timestep (We assume it stays constant throughout the entire duration `dt`).\n",
        "\n",
        "```\n",
        "rotAngle = w * dt\n",
        "```\n",
        "    \n",
        "Given a vector orthogonal to the heading, `r_vec`, we now need to rotate the robot around its center of rotation, which will give us our new position as well.\n",
        "\n",
        "We first compute the distance to the center of curvature:\n",
        "\n",
        "```\n",
        "dist_cc = (l * (Vl + Vr)) / (2 * (Vl - Vr))\n",
        "```\n",
        "\n",
        "From here, we compute the new x and y coordinates of our robot, as follows\n",
        "\n",
        " ```\n",
        "px, py = cur_pos\n",
        "cx = px + dist_cc * r_vec[0]\n",
        "cy = py + dist_cc * r_vec[1]\n",
        "npx, npy = rotate_point(px, py, cx, cy, rotAngle)\n",
        "cur_pos = np.array([npx, npy])\n",
        "```\n",
        "\n",
        "And there you have it! Feel free to pop open that earlier code tab, and you'll see what drives our simulated Duckiebot in `gym-duckietown`.\n",
        "\n"
      ]
    },
    {
      "metadata": {
        "id": "jgMBg7ta9h-K",
        "colab_type": "text"
      },
      "cell_type": "markdown",
      "source": [
        "#### Q: Can we do better than a differential drive model? Is it worth it?"
      ]
    },
    {
      "metadata": {
        "id": "whLBa25C9h-N",
        "colab_type": "text"
      },
      "cell_type": "markdown",
      "source": [
        "Of course! As we've gone over, modeling a true autonomous vehicle will require much more complex modeling. Luckily, our Duckiebots have little mass (which allow us to forgo many dynamics properties that cannot be ignored in a real autonomous system), and have many other properties that make it easy to model relatively well.\n",
        "\n",
        "In fact, differential drive models are great for exactly that reason: they are easy to model **and** program (as we've just seen), and they can be well controlled. "
      ]
    },
    {
      "metadata": {
        "id": "eTZAksevFlH7",
        "colab_type": "text"
      },
      "cell_type": "markdown",
      "source": [
        "## An example:\n",
        "\n",
        "#### Differential Drive Driving Duckiebots\n"
      ]
    },
    {
      "metadata": {
        "id": "Ji3jVpedF0y-",
        "colab_type": "text"
      },
      "cell_type": "markdown",
      "source": [
        "\n",
        "![](https://bhairavmehta95.github.io/static/teaching/dd-drive.gif =250x)"
      ]
    },
    {
      "metadata": {
        "id": "16yIqNM1TCE7",
        "colab_type": "text"
      },
      "cell_type": "markdown",
      "source": [
        "# Calibration\n",
        "\n",
        "Hooray! You've built a working differential drive robot (All of robotics is usually executed on 2D Python plots, so we're done!)\n",
        "\n",
        "As you'll soon see, if not already, all robots are not made the same, which is especially true for your Duckiebots.\n",
        "\n",
        "In order to get them road ready, you will need to **calibrate** your robot. Simply, we need to find **parameters** for your models in order to make sure they do what you think they will do. This is true for camera parameters, as well as odometry parameters - in this Instructional, we will focus only on the latter. We will start with encoder-based calibration.\n",
        "\n"
      ]
    },
    {
      "metadata": {
        "id": "F0_mq4M_U1oy",
        "colab_type": "text"
      },
      "cell_type": "markdown",
      "source": [
        "#### Q: Where are the Duckiebot's wheel encoders?\n",
        "\n",
        "\n"
      ]
    },
    {
      "metadata": {
        "id": "lW2mZoCGVEl-",
        "colab_type": "text"
      },
      "cell_type": "markdown",
      "source": [
        "There are none!"
      ]
    },
    {
      "metadata": {
        "id": "pKWKVjQPVH0z",
        "colab_type": "text"
      },
      "cell_type": "markdown",
      "source": [
        "## Odometry Calibration\n",
        "\n",
        "As we've seen in lecture, we cannot do encoder-based calibration for obvious reasons. Instead, we will perform a simpler odometry calibration, which we can simulate in this Instructional.\n",
        "\n",
        "We need to find two parameters, the **gain** and the **trim**. The gain can be thought of as the amplification, where as the trim can be thought of as alignment. Even more intuitively, we can think of these two parameters compensating for differences in the two motors. \n",
        "\n",
        "With these, we can define our simple odometry calibration model for our Duckiebots:\n",
        "\n",
        "```\n",
        "left_vel = (gain + trim)*(vel_actual - omega * wheel_dist)\n",
        "right_vel = (gain - trim)*(vel_actual - omega * wheel_dist)\n",
        "```\n",
        "\n",
        "Using this, we will simulate the actual odometry calibration procedure. As before, we encourage you to play around with this code, and try to see how different parameter settings affect your results.\n",
        "\n"
      ]
    },
    {
      "metadata": {
        "id": "1VpGVd9vZXFc",
        "colab_type": "text"
      },
      "cell_type": "markdown",
      "source": [
        "### Basic Odometry Calibration for Duckietown\n",
        "\n",
        "We will use the a slightly modified calibration setup as presented in class.\n",
        "\n",
        "While  $\\Delta$  > 5cm:\n",
        "\n",
        "1. Set Gain to mininize slipping of wheels (`gain ~ 1`)\n",
        "2. Drive Duckiebot forward on straight line for 1 meters.\n",
        "3. Adjust Trim\n",
        "\n",
        "Where  $\\Delta$ is the perpendicular distance from where your Duckiebot ends up and the actual straight line.\n",
        "\n",
        "If you have a left drift, you'll want to **increase** `trim`; if right, you'll want to **decrease** it.\n",
        "\n",
        "Below you'll find the code we'll use to actually drive our robot, which now takes a velocity and angle, rather than wheel velocities (which get calculated internally). The parameters hardcoded in there need not be changed, but feel free to experiment with them after you find a good set of calibration parameters, to see if your results still hold.\n"
      ]
    },
    {
      "metadata": {
        "id": "nyZr8fIXbRyN",
        "colab_type": "code",
        "colab": {}
      },
      "cell_type": "code",
      "source": [
        "def calibrate_drive(cur_pos, cur_angle, gain, trim, radius, k_l, k_r, vel, dt, seed):\n",
        "    angle = 0\n",
        "    limit = 1\n",
        "       \n",
        "    # Comment these next five lines if you want to make it easier!\n",
        "    np.random.seed(seed)\n",
        "    wheel_dist = np.random.uniform(0.25, 0.35)\n",
        "    radius = np.random.uniform(radius - 0.01, radius + 0.01)\n",
        "    k_l = k_r = np.random.uniform(k_l - 1.0, k_l + 1.0)\n",
        "    gain = np.random.normal(gain, max(0.1, np.abs(gain) * 0.10))\n",
        "    trim = np.random.normal(trim, max(0.03, np.abs(trim) * 0.10))\n",
        "\n",
        "    # adjusting k by gain and trim\n",
        "    k_r_inv = (gain + trim) / k_r\n",
        "    k_l_inv = (gain - trim) / k_l\n",
        "\n",
        "    omega_r = (vel + 0.5 * cur_angle * wheel_dist) / radius\n",
        "    omega_l = (vel - 0.5 * cur_angle * wheel_dist) / radius\n",
        "\n",
        "    # conversion from motor rotation rate to duty cycle\n",
        "    u_r = omega_r * k_r_inv\n",
        "    u_l = omega_l * k_l_inv\n",
        "\n",
        "    # limiting output to limit, which is 1.0 for the duckiebot\n",
        "    u_r_limited = max(min(u_r, limit), -limit)\n",
        "    u_l_limited = max(min(u_l, limit), -limit)\n",
        "\n",
        "    # If the wheel velocities are the same, then there is no rotation\n",
        "    if u_l_limited == u_r_limited:\n",
        "        cur_pos = cur_pos + dt * u_l_limited * get_dir_vec(cur_angle)\n",
        "        return cur_pos, cur_angle\n",
        "\n",
        "    # Compute the angular rotation velocity about the ICC (center of curvature)\n",
        "    w = (u_r_limited - u_l_limited) / wheel_dist  \n",
        "\n",
        "    # Compute the distance to the center of curvature\n",
        "    r = (wheel_dist * (u_l_limited + u_r_limited)) / (2 * (u_l_limited - u_r_limited))\n",
        "    \n",
        "    # Compute the rotation angle for this time step\n",
        "    rotAngle = w * dt\n",
        "\n",
        "    # Rotate the robot's position around the center of rotation\n",
        "    r_vec = get_right_vec(cur_angle)\n",
        "    px, py = cur_pos\n",
        "    cx = px + r * r_vec[0]\n",
        "    cy = py + r * r_vec[1]\n",
        "    npx, npy = rotate_point(px, py, cx, cy, rotAngle)\n",
        "    cur_pos = np.array([npx, npy])\n",
        "   \n",
        "    # Update the robot's direction angle\n",
        "    cur_angle += rotAngle\n",
        "    return cur_pos, cur_angle\n",
        "\n",
        "def calculate_delta(poses):\n",
        "    end = poses[-1][0]\n",
        "    \n",
        "    return end[1]"
      ],
      "execution_count": 0,
      "outputs": []
    },
    {
      "metadata": {
        "id": "qEuxOqL6eZr1",
        "colab_type": "text"
      },
      "cell_type": "markdown",
      "source": [
        "### Calibrating your Duckiebot:\n",
        "\n",
        "Have fun!\n",
        "\n",
        "Remember, `k` is the intrinsic motor parameter. You need not change it (it's default value is `TODO` if you change it), but if you'd like you can experiment with it, and see what happens when `k_r` and `k_l` are different.\n",
        "\n",
        "You'll see that we randomized it a bit, so that we don't all end up with trivial solutions.\n",
        "\n",
        "Before you start, you should pick a number (ideally, a unique one) and set it as `seed`. This will let you play around with the gain and trim parameters uniquely."
      ]
    },
    {
      "metadata": {
        "id": "EY9uaJ-Feqhd",
        "colab_type": "code",
        "colab": {
          "base_uri": "https://localhost:8080/",
          "height": 368
        },
        "outputId": "d209193a-66c5-41d0-a53e-79743ecc3179"
      },
      "cell_type": "code",
      "source": [
        "#@title Calibration Parameters { run: \"auto\" }\n",
        "\n",
        "gain = 1 #@param {type:\"slider\", min:0.8, max:1.2, step:0.05}\n",
        "trim = -0.039 #@param {type:\"slider\", min:-0.05, max:0.05, step:0.001}\n",
        "\n",
        "# Change these here if you want to really make life difficult!\n",
        "radius = 0.0318\n",
        "k = 27\n",
        "k_l = k\n",
        "k_r = k\n",
        "\n",
        "\n",
        "# Starting params, do not change.\n",
        "vel = 0.2\n",
        "dt = 0.5\n",
        "\n",
        "# Pick a number, any number!\n",
        "seed = 10\n",
        "\n",
        "total_timesteps = int(1.0 / (vel * dt))\n",
        "start_pos = [0, 0]\n",
        "cur_pos = start_pos\n",
        "cur_angle = 0\n",
        "\n",
        "poses = [(cur_pos, cur_angle)]\n",
        "\n",
        "for t in range(total_timesteps):\n",
        "    cur_pos, cur_angle = calibrate_drive(cur_pos, cur_angle, gain, trim, radius, k_l, k_r, vel, dt, seed)\n",
        "    poses.append((cur_pos, cur_angle))\n",
        "   \n",
        "plot_poses(poses, draw_line=True)\n",
        "calculate_delta(poses)"
      ],
      "execution_count": 30,
      "outputs": [
        {
          "output_type": "execute_result",
          "data": {
            "text/plain": [
              "-0.4056468011371596"
            ]
          },
          "metadata": {
            "tags": []
          },
          "execution_count": 30
        },
        {
          "output_type": "display_data",
          "data": {
            "image/png": "[encoded data removed]",
            "text/plain": [
              "<matplotlib.figure.Figure at 0x7f757c087358>"
            ]
          },
          "metadata": {
            "tags": []
          }
        }
      ]
    },
    {
      "metadata": {
        "id": "w1h8n2Q884TZ",
        "colab_type": "text"
      },
      "cell_type": "markdown",
      "source": [
        "## Extra Challenge: A Left Turn\n",
        "\n",
        "Found a good set of parameters? Below you'll see some code that will execute a set of actions on a selected part of Duckietown, particularly a right turn. After tuning your gain and trim is that, try to find a set of actions that will execute a left turn on our image of Duckietown below.\n",
        "\n",
        "Give it a shot!\n",
        "\n"
      ]
    },
    {
      "metadata": {
        "id": "697jVWPA97aq",
        "colab_type": "code",
        "colab": {
          "base_uri": "https://localhost:8080/",
          "height": 388
        },
        "outputId": "dc443cc2-9619-469d-8ca5-5789a74a4535"
      },
      "cell_type": "code",
      "source": [
        "def plot_poses_challenge(poses):\n",
        "    from PIL import Image\n",
        "    import PIL\n",
        "    img = Image.open('dt.png').resize((25, 25), resample=PIL.Image.LANCZOS)\n",
        "    img = np.rot90(np.array(img, dtype=np.uint8), 3) \n",
        "    \n",
        "    fig, ax = plt.subplots()\n",
        "    plt.imshow(img)\n",
        "    \n",
        "    coords = np.array([p[0] for p in poses])\n",
        "\n",
        "    plt.axis([0, 25, 0, 25])\n",
        "    for i, p in enumerate(poses):\n",
        "        x = p[0][0]\n",
        "        y = p[0][1]\n",
        "        angle = p[1]\n",
        "        \n",
        "        if i == 0:\n",
        "            plt.arrow(x, y, 0.00001 * math.cos(angle), 0.00001 * math.sin(angle),\n",
        "                 head_width=2, head_length=1,\n",
        "                  fc='r', ec='r')\n",
        "        else:\n",
        "            plt.arrow(x, y, 0.001 * math.cos(angle), 0.001 * math.sin(angle),\n",
        "                 head_width=3, head_length=3,\n",
        "                  fc='k', ec='k')\n",
        "\n",
        "cur_pos = [2.5, 2.5]\n",
        "cur_angle = 0\n",
        "\n",
        "vels = [(1.0, 1.0), (1.0, 1.0), (1.0, 1.0), (1.0, 1.0)] # TODO: Find this!\n",
        "poses = [(cur_pos, cur_angle)]\n",
        "\n",
        "for v in vels:\n",
        "    cur_pos, cur_angle = calibrate_drive(cur_pos, cur_angle, gain, trim, radius, k_l, k_r, vel, dt * 5, seed)\n",
        "    poses.append((cur_pos, cur_angle))\n",
        "\n",
        "\n",
        "plot_poses_challenge(poses)\n",
        "            \n",
        "\n",
        "    \n",
        "\n"
      ],
      "execution_count": 62,
      "outputs": [
        {
          "output_type": "stream",
          "text": [
            "[([2.5, 2.5], 0), (array([3.3241705 , 2.47686021]), 0.0561381755585732), (array([4.12997666, 2.31356839]), 0.3437350476669808), (array([4.48525523, 1.64809757]), 1.8170989399480924), (array([4.38416803, 1.56431739]), 9.365168371869725)]\n"
          ],
          "name": "stdout"
        },
        {
          "output_type": "display_data",
          "data": {
            "image/png": "[encoded data removed]",
            "text/plain": [
              "<matplotlib.figure.Figure at 0x7f757c12b3c8>"
            ]
          },
          "metadata": {
            "tags": []
          }
        }
      ]
    }
  ]
}